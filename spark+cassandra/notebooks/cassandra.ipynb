{
 "cells": [
  {
   "cell_type": "code",
   "execution_count": 1,
   "metadata": {},
   "outputs": [],
   "source": [
    "from pyspark.context import SparkConf\n",
    "from pyspark import SparkContext\n",
    "from pyspark.sql import SQLContext"
   ]
  },
  {
   "cell_type": "code",
   "execution_count": 2,
   "metadata": {},
   "outputs": [],
   "source": [
    "\n",
    "sc_conf = SparkConf()\n",
    "sc_conf.set('spark.cassandra.connection.host', '192.168.100.100')\n",
    "    \n",
    "sc = SparkContext(\"local\", \"cassandra user test\",sc_conf)\n"
   ]
  },
  {
   "cell_type": "code",
   "execution_count": 3,
   "metadata": {},
   "outputs": [],
   "source": [
    "sqlContext = SQLContext(sc)"
   ]
  },
  {
   "cell_type": "code",
   "execution_count": 4,
   "metadata": {},
   "outputs": [],
   "source": [
    "df = sqlContext.read.format(\"org.apache.spark.sql.cassandra\").option(\"spark.cassandra.connection.host\", \"cassandra\").options(table=\"users\", keyspace=\"testing\").load()"
   ]
  },
  {
   "cell_type": "code",
   "execution_count": 39,
   "metadata": {},
   "outputs": [
    {
     "data": {
      "text/plain": [
       "112837"
      ]
     },
     "execution_count": 39,
     "metadata": {},
     "output_type": "execute_result"
    }
   ],
   "source": [
    "df.count()"
   ]
  },
  {
   "cell_type": "code",
   "execution_count": 40,
   "metadata": {},
   "outputs": [
    {
     "name": "stdout",
     "output_type": "stream",
     "text": [
      "root\n",
      " |-- id: string (nullable = true)\n",
      " |-- balance: float (nullable = true)\n",
      " |-- user_name: struct (nullable = true)\n",
      " |    |-- first: string (nullable = true)\n",
      " |    |-- second: string (nullable = true)\n",
      " |    |-- family: string (nullable = true)\n",
      "\n"
     ]
    }
   ],
   "source": [
    "df.printSchema()"
   ]
  },
  {
   "cell_type": "code",
   "execution_count": 73,
   "metadata": {},
   "outputs": [
    {
     "name": "stdout",
     "output_type": "stream",
     "text": [
      "1212840\n",
      "--- 13.583833694458008 seconds ---\n"
     ]
    }
   ],
   "source": [
    "import time\n",
    "start_time = time.time()\n",
    "#rst = df.agg({\"balance\":\"avg\"}).show()\n",
    "rst = df.count()\n",
    "print(rst)\n",
    "print(\"--- %s seconds ---\" % (time.time() - start_time))"
   ]
  },
  {
   "cell_type": "markdown",
   "metadata": {},
   "source": [
    "# python data ganrator"
   ]
  },
  {
   "cell_type": "code",
   "execution_count": null,
   "metadata": {},
   "outputs": [
    {
     "data": {
      "application/vnd.jupyter.widget-view+json": {
       "model_id": "cb37f9230cd649568bae522e53410027",
       "version_major": 2,
       "version_minor": 0
      },
      "text/plain": [
       "FloatProgress(value=0.0, max=1000000.0)"
      ]
     },
     "metadata": {},
     "output_type": "display_data"
    }
   ],
   "source": [
    "from cassandra.cluster import Cluster\n",
    "import random\n",
    "\n",
    "cluster = Cluster(['cassandra'],port=9042)\n",
    "session = cluster.connect()\n",
    "session.set_keyspace('testing')\n",
    "#or session.execute('USE testing')\n",
    "\n",
    "# rows = session.execute('SELECT * FROM users')\n",
    "# for user in rows:\n",
    "#     print(user.id,\"#\",user.user_name)\n",
    "\n",
    "\n",
    "from ipywidgets import FloatProgress\n",
    "from IPython.display import display\n",
    "\n",
    "max_count = 1000000\n",
    "\n",
    "f = FloatProgress(min=0, max=max_count) # instantiate the bar\n",
    "display(f) # display the bar\n",
    "\n",
    "count = 0\n",
    "while count <= max_count:\n",
    "    f.value += 1 # signal to increment the progress bar\n",
    "    session.execute(\"INSERT INTO testing.users (id , user_name  , balance ) VALUES ( now() , {first: 'name%s', second: 'aa', family: 'family'} , %s)\" % (random.choice('abcde'),random.uniform(100, 1000000)))\n",
    "    count += 1\n",
    "print('done :)')"
   ]
  },
  {
   "cell_type": "code",
   "execution_count": null,
   "metadata": {},
   "outputs": [],
   "source": []
  }
 ],
 "metadata": {
  "kernelspec": {
   "display_name": "Python 3",
   "language": "python",
   "name": "python3"
  },
  "language_info": {
   "codemirror_mode": {
    "name": "ipython",
    "version": 3
   },
   "file_extension": ".py",
   "mimetype": "text/x-python",
   "name": "python",
   "nbconvert_exporter": "python",
   "pygments_lexer": "ipython3",
   "version": "3.6.3"
  }
 },
 "nbformat": 4,
 "nbformat_minor": 2
}
